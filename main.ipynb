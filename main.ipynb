{
 "cells": [
  {
   "cell_type": "markdown",
   "source": [
    "***\r\n",
    "# Default Settings"
   ],
   "metadata": {}
  },
  {
   "cell_type": "markdown",
   "source": [
    "## Some Commonly Used Python Options:"
   ],
   "metadata": {}
  },
  {
   "cell_type": "code",
   "execution_count": 1,
   "source": [
    "import random\r\n",
    "# random seed \r\n",
    "SEED = 42\r\n",
    "random.seed(SEED)"
   ],
   "outputs": [],
   "metadata": {}
  },
  {
   "cell_type": "code",
   "execution_count": null,
   "source": [],
   "outputs": [],
   "metadata": {}
  },
  {
   "cell_type": "markdown",
   "source": [
    "## My Frequently Used Pandas Options:"
   ],
   "metadata": {}
  },
  {
   "cell_type": "code",
   "execution_count": null,
   "source": [
    "import pandas as pd\r\n",
    "\r\n",
    "# max number of columns and rows to be displayed in the notebook\r\n",
    "pd.set_option(\"display.max_columns\", 250)\r\n",
    "pd.set_option(\"display.max_rows\", 250)\r\n",
    "\r\n",
    "\r\n",
    "# set precisions of the the pandas numeric data\r\n",
    "pd.set_option(\"precision\", 5)\r\n",
    "\r\n",
    "\r\n",
    "# display.expand_frame_repr allows for the representation of dataframes\r\n",
    "# to stretch across pages, wrapped over the full column vs row-wise.\r\n",
    "pd.set_option(\"expand_frame_repr\", True)\r\n",
    "\r\n",
    "\r\n",
    "# display.colheader_justify controls the justification of the headers. The options are ‘right’, and ‘left’.\r\n",
    "pd.set_option(\"colheader_justify\", \"right\")\r\n"
   ],
   "outputs": [],
   "metadata": {}
  },
  {
   "cell_type": "markdown",
   "source": [
    "For more information please refer to the following link with more options and default values: [Link](https://pandas.pydata.org/pandas-docs/stable/user_guide/options.html)"
   ],
   "metadata": {}
  },
  {
   "cell_type": "markdown",
   "source": [
    "## My Frequently Used Matplotlib Options:"
   ],
   "metadata": {}
  },
  {
   "cell_type": "code",
   "execution_count": null,
   "source": [
    "# Matplotlib default settings\r\n",
    "import matplotlib.pyplot as plt\r\n",
    "\r\n",
    "# Default plot size\r\n",
    "fig_width = 11\r\n",
    "fig_height = 8\r\n",
    "plt.rcParams['figure.figsize'] = (fig_width, fig_height)\r\n",
    "\r\n",
    "# Default plot style\r\n",
    "plt.style.use('fivethirtyeight')\r\n"
   ],
   "outputs": [],
   "metadata": {}
  },
  {
   "cell_type": "code",
   "execution_count": null,
   "source": [],
   "outputs": [],
   "metadata": {}
  },
  {
   "cell_type": "code",
   "execution_count": null,
   "source": [],
   "outputs": [],
   "metadata": {}
  },
  {
   "cell_type": "code",
   "execution_count": null,
   "source": [],
   "outputs": [],
   "metadata": {}
  },
  {
   "cell_type": "code",
   "execution_count": null,
   "source": [],
   "outputs": [],
   "metadata": {}
  },
  {
   "cell_type": "code",
   "execution_count": null,
   "source": [],
   "outputs": [],
   "metadata": {}
  },
  {
   "cell_type": "code",
   "execution_count": null,
   "source": [],
   "outputs": [],
   "metadata": {}
  },
  {
   "cell_type": "markdown",
   "source": [
    "***\r\n",
    "# Jupyter Notebook"
   ],
   "metadata": {}
  },
  {
   "cell_type": "markdown",
   "source": [
    "How to add hyperlink in Markdown sections: \r\n",
    "```\r\n",
    "[Description] (URL) \r\n",
    "````"
   ],
   "metadata": {}
  },
  {
   "cell_type": "markdown",
   "source": [],
   "metadata": {}
  }
 ],
 "metadata": {
  "orig_nbformat": 4,
  "language_info": {
   "name": "python"
  }
 },
 "nbformat": 4,
 "nbformat_minor": 2
}