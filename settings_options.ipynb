{
 "cells": [
  {
   "cell_type": "markdown",
   "source": [
    "# Default Settings"
   ],
   "metadata": {}
  },
  {
   "cell_type": "markdown",
   "source": [
    "## Python Options/Settings:"
   ],
   "metadata": {}
  },
  {
   "cell_type": "code",
   "execution_count": 1,
   "source": [
    "import random\n",
    "# random seed \n",
    "SEED = 42\n",
    "random.seed(SEED)"
   ],
   "outputs": [],
   "metadata": {}
  },
  {
   "cell_type": "code",
   "execution_count": null,
   "source": [
    "import warnings\n",
    "# filtering out annoying warnings:\n",
    "warnings.filterwarnings('ignore', category=DeprecationWarning)\n",
    "warnings.filterwarnings('ignore', category=FutureWarning)\n",
    "warnings.filterwarnings('ignore', category=RuntimeWarning)\n",
    "warnings.filterwarnings('ignore', category=Warning)"
   ],
   "outputs": [],
   "metadata": {}
  },
  {
   "cell_type": "code",
   "execution_count": null,
   "source": [],
   "outputs": [],
   "metadata": {}
  },
  {
   "cell_type": "markdown",
   "source": [
    "## Pandas Settings:"
   ],
   "metadata": {}
  },
  {
   "cell_type": "code",
   "execution_count": null,
   "source": [
    "import pandas as pd\n",
    "\n",
    "# max number of columns and rows to be displayed in the notebook\n",
    "pd.set_option(\"display.max_columns\", 250)\n",
    "pd.set_option(\"display.max_rows\", 250)\n",
    "\n",
    "\n",
    "# set precisions of the the pandas numeric data\n",
    "pd.set_option(\"precision\", 5)\n",
    "\n",
    "\n",
    "# display.expand_frame_repr allows for the representation of dataframes\n",
    "# to stretch across pages, wrapped over the full column vs row-wise.\n",
    "pd.set_option(\"expand_frame_repr\", True)\n",
    "\n",
    "\n",
    "# display.colheader_justify controls the justification of the headers. The options are ‘right’, and ‘left’.\n",
    "pd.set_option(\"colheader_justify\", \"right\")\n",
    "\n",
    "# chain assignment (https://pandas.pydata.org/pandas-docs/stable/user_guide/indexing.html#indexing-evaluation-order)\n",
    "pd.set_option('mode.chained_assignment','warn')\n"
   ],
   "outputs": [],
   "metadata": {}
  },
  {
   "cell_type": "markdown",
   "source": [
    "For more information please refer to the following link with more options and default values: [Link](https://pandas.pydata.org/pandas-docs/stable/user_guide/options.html)"
   ],
   "metadata": {}
  },
  {
   "cell_type": "markdown",
   "source": [
    "## Numpy"
   ],
   "metadata": {}
  },
  {
   "cell_type": "code",
   "execution_count": null,
   "source": [
    "import numpy as np \n",
    "\n",
    "# These options determine the way floating point numbers, arrays and other NumPy objects are displayed.\n",
    "#  Number of digits of precision for floating point output (default 8). \n",
    "# more info (https://numpy.org/doc/stable/reference/generated/numpy.set_printoptions.html#numpy.set_printoptions)\n",
    "np.set_printoptions(precision=2)"
   ],
   "outputs": [],
   "metadata": {}
  },
  {
   "cell_type": "markdown",
   "source": [
    "## Matplotlib Settings:"
   ],
   "metadata": {}
  },
  {
   "cell_type": "code",
   "execution_count": null,
   "source": [
    "# Matplotlib default settings\n",
    "import matplotlib.pyplot as plt\n",
    "import matplotlib as mpl\n",
    "# Default plot size\n",
    "fig_width = 11\n",
    "fig_height = 8\n",
    "plt.rcParams['figure.figsize'] = (fig_width, fig_height)\n",
    "\n",
    "# Default plot style (more styles: https://matplotlib.org/stable/gallery/style_sheets/style_sheets_reference.html)\n",
    "plt.style.use('fivethirtyeight')\n",
    "\n",
    "# DPI of the plot\n",
    "plt.rcParams['savefig.dpi'] = 300\n",
    "\n",
    "#change default colormap\n",
    "mpl.rcParams['image.cmap'] = 'jet'\n",
    "\n",
    "# setting up the grid color and styles\n",
    "mpl.rcParams['grid.color'] = 'k'\n",
    "mpl.rcParams['grid.linestyle'] = ':'\n",
    "mpl.rcParams['grid.linewidth'] = 0.5\n",
    "\n",
    "# font size and style\n",
    "mpl.rcParams['font.size'] = 12\n",
    "mpl.rcParams['legend.fontsize'] = 'large'\n",
    "mpl.rcParams['figure.titlesize'] = 'medium'\n",
    "\n",
    "# legend style\n",
    "mpl.rcParams['legend.fancybox'] = False\n",
    "mpl.rcParams['legend.loc'] = 'upper right'\n",
    "mpl.rcParams['legend.numpoints'] = 2\n",
    "mpl.rcParams['legend.fontsize'] = 'large'\n",
    "mpl.rcParams['legend.framealpha'] = None\n",
    "mpl.rcParams['legend.scatterpoints'] = 3\n",
    "mpl.rcParams['legend.edgecolor'] = 'inherit'\n",
    "\n",
    "# axes\n",
    "mpl.rcParams['axes.autolimit_mode'] = 'round_numbers'\n",
    "mpl.rcParams['axes.xmargin'] = 0\n",
    "mpl.rcParams['axes.ymargin'] = 0\n",
    "\n",
    "# more options (https://matplotlib.org/stable/users/dflt_style_changes.html)"
   ],
   "outputs": [],
   "metadata": {}
  },
  {
   "cell_type": "code",
   "execution_count": null,
   "source": [],
   "outputs": [],
   "metadata": {}
  }
 ],
 "metadata": {
  "orig_nbformat": 4,
  "language_info": {
   "name": "python"
  }
 },
 "nbformat": 4,
 "nbformat_minor": 2
}